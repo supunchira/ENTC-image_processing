{
 "cells": [
  {
   "cell_type": "code",
   "execution_count": 20,
   "metadata": {},
   "outputs": [],
   "source": [
    "import tensorflow as tf\n",
    "from tensorflow import keras \n",
    "from tensorflow.keras import datasets, layers, models\n",
    "import matplotlib.pyplot as plt"
   ]
  },
  {
   "cell_type": "code",
   "execution_count": 21,
   "metadata": {},
   "outputs": [],
   "source": [
    "(x_train, y_train), (x_test, y_test) = datasets.cifar10.load_data()\n",
    "x_train, x_test = x_train / 255.0, x_test / 255.0"
   ]
  },
  {
   "cell_type": "code",
   "execution_count": 22,
   "metadata": {},
   "outputs": [],
   "source": [
    "model = models.Sequential()\n",
    "model.add(layers.Conv2D(32, (3, 3), activation='relu', input_shape=(32, 32, 3)))\n",
    "model.add(layers.MaxPooling2D((2, 2)))\n",
    "model.add(layers.Conv2D(64, (3, 3), activation='relu'))\n",
    "model.add(layers.MaxPooling2D((2, 2)))\n",
    "model.add(layers.Conv2D(64, (3, 3), activation='relu'))\n",
    "model.add(layers.MaxPooling2D((2, 2)))\n",
    "model.add(layers.Flatten())\n",
    "model.add(layers.Dense(64, activation='relu'))\n",
    "model.add(layers.Dense(10))"
   ]
  },
  {
   "cell_type": "code",
   "execution_count": 23,
   "metadata": {},
   "outputs": [
    {
     "name": "stdout",
     "output_type": "stream",
     "text": [
      "Model: \"sequential_3\"\n",
      "_________________________________________________________________\n",
      "Layer (type)                 Output Shape              Param #   \n",
      "=================================================================\n",
      "conv2d_9 (Conv2D)            (None, 30, 30, 32)        896       \n",
      "_________________________________________________________________\n",
      "max_pooling2d_9 (MaxPooling2 (None, 15, 15, 32)        0         \n",
      "_________________________________________________________________\n",
      "conv2d_10 (Conv2D)           (None, 13, 13, 64)        18496     \n",
      "_________________________________________________________________\n",
      "max_pooling2d_10 (MaxPooling (None, 6, 6, 64)          0         \n",
      "_________________________________________________________________\n",
      "conv2d_11 (Conv2D)           (None, 4, 4, 64)          36928     \n",
      "_________________________________________________________________\n",
      "max_pooling2d_11 (MaxPooling (None, 2, 2, 64)          0         \n",
      "_________________________________________________________________\n",
      "flatten_3 (Flatten)          (None, 256)               0         \n",
      "_________________________________________________________________\n",
      "dense_6 (Dense)              (None, 64)                16448     \n",
      "_________________________________________________________________\n",
      "dense_7 (Dense)              (None, 10)                650       \n",
      "=================================================================\n",
      "Total params: 73,418\n",
      "Trainable params: 73,418\n",
      "Non-trainable params: 0\n",
      "_________________________________________________________________\n"
     ]
    }
   ],
   "source": [
    "model.summary()"
   ]
  },
  {
   "cell_type": "code",
   "execution_count": 24,
   "metadata": {},
   "outputs": [],
   "source": [
    "y_train_categorical = keras.utils.to_categorical(\n",
    "    y_train, num_classes=10, dtype = \"float32\")"
   ]
  },
  {
   "cell_type": "code",
   "execution_count": 25,
   "metadata": {},
   "outputs": [],
   "source": [
    "y_test_categorical = keras.utils.to_categorical(\n",
    "    y_test, num_classes=10, dtype = \"float32\")"
   ]
  },
  {
   "cell_type": "code",
   "execution_count": 26,
   "metadata": {},
   "outputs": [
    {
     "name": "stdout",
     "output_type": "stream",
     "text": [
      "Epoch 1/20\n",
      "1563/1563 [==============================] - 75s 47ms/step - loss: 1.9143 - accuracy: 0.2860 - val_loss: 1.3981 - val_accuracy: 0.4943\n",
      "Epoch 2/20\n",
      "1563/1563 [==============================] - 72s 46ms/step - loss: 1.3338 - accuracy: 0.5208 - val_loss: 1.1781 - val_accuracy: 0.5780\n",
      "Epoch 3/20\n",
      "1563/1563 [==============================] - 70s 45ms/step - loss: 1.1512 - accuracy: 0.5929 - val_loss: 1.1026 - val_accuracy: 0.6169\n",
      "Epoch 4/20\n",
      "1563/1563 [==============================] - 78s 50ms/step - loss: 1.0364 - accuracy: 0.6355 - val_loss: 1.0783 - val_accuracy: 0.6270\n",
      "Epoch 5/20\n",
      "1563/1563 [==============================] - 69s 44ms/step - loss: 0.9550 - accuracy: 0.6636 - val_loss: 1.1099 - val_accuracy: 0.6159\n",
      "Epoch 6/20\n",
      "1563/1563 [==============================] - 70s 45ms/step - loss: 0.9116 - accuracy: 0.6833 - val_loss: 1.1056 - val_accuracy: 0.6329\n",
      "Epoch 7/20\n",
      "1563/1563 [==============================] - 60s 39ms/step - loss: 0.8561 - accuracy: 0.7057 - val_loss: 1.0340 - val_accuracy: 0.6577\n",
      "Epoch 8/20\n",
      "1563/1563 [==============================] - 62s 40ms/step - loss: 0.8093 - accuracy: 0.7191 - val_loss: 1.0782 - val_accuracy: 0.6398\n",
      "Epoch 9/20\n",
      "1563/1563 [==============================] - 60s 38ms/step - loss: 0.7846 - accuracy: 0.7281 - val_loss: 1.0427 - val_accuracy: 0.6562\n",
      "Epoch 10/20\n",
      "1563/1563 [==============================] - 62s 39ms/step - loss: 0.7584 - accuracy: 0.7366 - val_loss: 1.0479 - val_accuracy: 0.6540\n",
      "Epoch 11/20\n",
      "1563/1563 [==============================] - 63s 40ms/step - loss: 0.7215 - accuracy: 0.7483 - val_loss: 1.0437 - val_accuracy: 0.6550\n",
      "Epoch 12/20\n",
      "1563/1563 [==============================] - 65s 41ms/step - loss: 0.7110 - accuracy: 0.7526 - val_loss: 1.0799 - val_accuracy: 0.6579\n",
      "Epoch 13/20\n",
      "1563/1563 [==============================] - 59s 38ms/step - loss: 0.6941 - accuracy: 0.7579 - val_loss: 1.0863 - val_accuracy: 0.6606\n",
      "Epoch 14/20\n",
      "1563/1563 [==============================] - 69s 44ms/step - loss: 0.6807 - accuracy: 0.7647 - val_loss: 1.0592 - val_accuracy: 0.6654\n",
      "Epoch 15/20\n",
      "1563/1563 [==============================] - 69s 44ms/step - loss: 0.6796 - accuracy: 0.7648 - val_loss: 1.1030 - val_accuracy: 0.6696\n",
      "Epoch 16/20\n",
      "1563/1563 [==============================] - 69s 44ms/step - loss: 0.6661 - accuracy: 0.7717 - val_loss: 1.1454 - val_accuracy: 0.6495\n",
      "Epoch 17/20\n",
      "1563/1563 [==============================] - 72s 46ms/step - loss: 0.6511 - accuracy: 0.7749 - val_loss: 1.1199 - val_accuracy: 0.6578\n",
      "Epoch 18/20\n",
      "1563/1563 [==============================] - 76s 48ms/step - loss: 0.6581 - accuracy: 0.7754 - val_loss: 1.1252 - val_accuracy: 0.6545\n",
      "Epoch 19/20\n",
      "1563/1563 [==============================] - 74s 47ms/step - loss: 0.6544 - accuracy: 0.7754 - val_loss: 1.1550 - val_accuracy: 0.6653\n",
      "Epoch 20/20\n",
      "1563/1563 [==============================] - 68s 44ms/step - loss: 0.6404 - accuracy: 0.7831 - val_loss: 1.1612 - val_accuracy: 0.6584\n"
     ]
    }
   ],
   "source": [
    "opt = tf.keras.optimizers.SGD(learning_rate=1.4e-2, momentum=0.9)\n",
    "model.compile(optimizer=opt,\n",
    "              loss=tf.keras.losses.CategoricalCrossentropy(from_logits=True),\n",
    "              metrics=['accuracy'])\n",
    "history = model.fit(x_train, y_train_categorical, epochs=20,\n",
    "                   validation_data=(x_test, y_test_categorical))"
   ]
  },
  {
   "cell_type": "code",
   "execution_count": 29,
   "metadata": {},
   "outputs": [
    {
     "name": "stdout",
     "output_type": "stream",
     "text": [
      "313/313 - 4s - loss: 1.1612 - accuracy: 0.6584\n",
      "1563/1563 - 19s - loss: 0.5776 - accuracy: 0.7966\n"
     ]
    },
    {
     "data": {
      "image/png": "[encoded data removed]",
      "text/plain": [
       "<Figure size 432x288 with 1 Axes>"
      ]
     },
     "metadata": {
      "needs_background": "light"
     },
     "output_type": "display_data"
    }
   ],
   "source": [
    "plt.plot(history.history['accuracy'], label='accuracy')\n",
    "plt.plot(history.history['val_accuracy'], label = 'val_accuracy')\n",
    "plt.xlabel('Epoch')\n",
    "plt.ylabel('Accuracy')\n",
    "plt.ylim([0.5, 1])\n",
    "plt.legend(loc='lower right')\n",
    "test_loss, test_acc = model.evaluate(x_test, y_test_categorical, verbose=2)\n",
    "train_loss, train_acc = model.evaluate(x_train, y_train_categorical, verbose=2)"
   ]
  },
  {
   "cell_type": "code",
   "execution_count": 30,
   "metadata": {},
   "outputs": [
    {
     "name": "stdout",
     "output_type": "stream",
     "text": [
      "test_loss= 1.1612060070037842\n",
      "test_acccurcy= 0.6583999991416931\n",
      "train_acccurcy= 0.7965999841690063\n",
      "train_loss= 0.577631413936615\n"
     ]
    }
   ],
   "source": [
    "print(\"test_loss=\",test_loss)\n",
    "print(\"test_acccurcy=\",test_acc)\n",
    "print(\"train_acccurcy=\",train_acc)\n",
    "print(\"train_loss=\",train_loss)"
   ]
  },
  {
   "cell_type": "code",
   "execution_count": null,
   "metadata": {},
   "outputs": [],
   "source": []
  }
 ],
 "metadata": {
  "kernelspec": {
   "display_name": "Python 3",
   "language": "python",
   "name": "python3"
  },
  "language_info": {
   "codemirror_mode": {
    "name": "ipython",
    "version": 3
   },
   "file_extension": ".py",
   "mimetype": "text/x-python",
   "name": "python",
   "nbconvert_exporter": "python",
   "pygments_lexer": "ipython3",
   "version": "3.7.4"
  }
 },
 "nbformat": 4,
 "nbformat_minor": 4
}
